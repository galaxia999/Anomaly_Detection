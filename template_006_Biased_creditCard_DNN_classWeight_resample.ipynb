{
 "cells": [
  {
   "cell_type": "markdown",
   "id": "59939b2c",
   "metadata": {
    "id": "SyQuWKAJt3xq"
   },
   "source": [
    "# Deep Learning model의 class weight 조정\n",
    "\n",
    "## DNN 이용, Class Weight 조정, OverSampling\n",
    "\n",
    "- Data 는 이전 실습 문제와 동일한 [Credit Card Fraud Detection](https://www.kaggle.com/mlg-ulb/creditcardfraud) - Kaggle\n",
    "\n",
    "- Colab 에서 실행"
   ]
  },
  {
   "cell_type": "code",
   "execution_count": null,
   "id": "7f82b9cd",
   "metadata": {},
   "outputs": [],
   "source": []
  },
  {
   "cell_type": "markdown",
   "id": "8a8139f4",
   "metadata": {
    "id": "IdW269nBt3x2"
   },
   "source": [
    "### Kaggle Credit Card Fraud dataset 다운로드"
   ]
  },
  {
   "cell_type": "code",
   "execution_count": null,
   "id": "e48e9665",
   "metadata": {},
   "outputs": [],
   "source": []
  },
  {
   "cell_type": "markdown",
   "id": "35508aca",
   "metadata": {
    "id": "738aexZRt3x-"
   },
   "source": [
    "### 클래스 레이블 불균형 조사"
   ]
  },
  {
   "cell_type": "code",
   "execution_count": null,
   "id": "a7674b94",
   "metadata": {},
   "outputs": [],
   "source": []
  },
  {
   "cell_type": "code",
   "execution_count": null,
   "id": "272a51c0",
   "metadata": {},
   "outputs": [],
   "source": []
  },
  {
   "cell_type": "markdown",
   "id": "15abb946",
   "metadata": {
    "id": "USH9Dhvjt3yG"
   },
   "source": [
    "## Data 전처리\n",
    "\n",
    "- 2 일 동안의 data가 00:00:00 부터 발생했으므로 Time을 일중 시간으로 변경 : time / 3600 초 % 24 시간  \n",
    "- Amount column 은 편차가 크므로 log-scale 로 변환"
   ]
  },
  {
   "cell_type": "code",
   "execution_count": null,
   "id": "c758592b",
   "metadata": {},
   "outputs": [],
   "source": [
    "# Time 을 일중 시간으로 변환\n",
    "# Amount column 은 편차가 크므로 log-scale 로 변환"
   ]
  },
  {
   "cell_type": "code",
   "execution_count": null,
   "id": "a2a79a5f",
   "metadata": {},
   "outputs": [],
   "source": []
  },
  {
   "cell_type": "code",
   "execution_count": null,
   "id": "701f1ec7",
   "metadata": {},
   "outputs": [],
   "source": []
  },
  {
   "cell_type": "code",
   "execution_count": null,
   "id": "aa725ec9",
   "metadata": {},
   "outputs": [],
   "source": []
  },
  {
   "cell_type": "code",
   "execution_count": null,
   "id": "a7fd518a",
   "metadata": {},
   "outputs": [],
   "source": []
  },
  {
   "cell_type": "markdown",
   "id": "4f0eba71",
   "metadata": {
    "id": "q0AhbQkT_XS2"
   },
   "source": [
    "### Dataset 을 Training 과 Test set 으로 분리"
   ]
  },
  {
   "cell_type": "code",
   "execution_count": null,
   "id": "7db40d11",
   "metadata": {},
   "outputs": [],
   "source": []
  },
  {
   "cell_type": "code",
   "execution_count": null,
   "id": "78f510fe",
   "metadata": {},
   "outputs": [],
   "source": []
  },
  {
   "cell_type": "markdown",
   "id": "03b9f2b0",
   "metadata": {
    "id": "HbTDWeFP-W2t"
   },
   "source": [
    "## Feature Scaling"
   ]
  },
  {
   "cell_type": "code",
   "execution_count": null,
   "id": "45dc2c47",
   "metadata": {},
   "outputs": [],
   "source": []
  },
  {
   "cell_type": "markdown",
   "id": "e7abe750",
   "metadata": {
    "id": "putdDmMN-W2t"
   },
   "source": [
    "### Metrics 정의\n",
    "- model train 중 측정할 metric  정의"
   ]
  },
  {
   "cell_type": "code",
   "execution_count": null,
   "id": "a3a0d6a6",
   "metadata": {},
   "outputs": [],
   "source": []
  },
  {
   "cell_type": "markdown",
   "id": "e4ae396d",
   "metadata": {
    "id": "ejjpZM9Kt3ym"
   },
   "source": [
    "## Simple NN model 정의 - 이진 분류 모델"
   ]
  },
  {
   "cell_type": "code",
   "execution_count": null,
   "id": "bdd8fe64",
   "metadata": {},
   "outputs": [],
   "source": [
    "def make_model():"
   ]
  },
  {
   "cell_type": "markdown",
   "id": "d5aafd19",
   "metadata": {
    "id": "YuB7VrmAt3yr"
   },
   "source": [
    "### Baseline model build"
   ]
  },
  {
   "cell_type": "code",
   "execution_count": null,
   "id": "06506195",
   "metadata": {},
   "outputs": [],
   "source": []
  },
  {
   "cell_type": "code",
   "execution_count": null,
   "id": "cc614725",
   "metadata": {},
   "outputs": [],
   "source": []
  },
  {
   "cell_type": "markdown",
   "id": "40ddbc3e",
   "metadata": {
    "id": "B-Ftgdtct3zb"
   },
   "source": [
    "## Train the model"
   ]
  },
  {
   "cell_type": "code",
   "execution_count": null,
   "id": "b09e6fc3",
   "metadata": {},
   "outputs": [],
   "source": []
  },
  {
   "cell_type": "code",
   "execution_count": null,
   "id": "1c280573",
   "metadata": {},
   "outputs": [],
   "source": [
    "# baseline_history 객체의 history 속성에서 'val_accuracy' 키에 해당하는 값을 가져옵니다.\n",
    "# 따라서, 이 코드는 모델 학습 마지막 에포크에서 검증 데이터에 대한 정확도를 출력합니다."
   ]
  },
  {
   "cell_type": "markdown",
   "id": "c97896f4",
   "metadata": {
    "id": "PROwAK95t3zl"
   },
   "source": [
    "## Evaluate Metric\n",
    "\n",
    "- confusion matrix 를 이용하여 metrics 요약"
   ]
  },
  {
   "cell_type": "code",
   "execution_count": null,
   "id": "2946fb7d",
   "metadata": {},
   "outputs": [],
   "source": []
  },
  {
   "cell_type": "code",
   "execution_count": null,
   "id": "c971a9f2",
   "metadata": {},
   "outputs": [],
   "source": [
    "def plot_cm(y_test, y_pred_prob, threshold):"
   ]
  },
  {
   "cell_type": "markdown",
   "id": "73ac1668",
   "metadata": {
    "id": "LWD-EIM7t3zt"
   },
   "source": [
    "### Test dataset 으로 모델을 평가 하고, confusion matrix 를 그린다"
   ]
  },
  {
   "cell_type": "code",
   "execution_count": null,
   "id": "a935706e",
   "metadata": {},
   "outputs": [],
   "source": []
  },
  {
   "cell_type": "markdown",
   "id": "26a04046",
   "metadata": {
    "id": "-P-iJJ1pt3z5"
   },
   "source": [
    "## Class Weight 조정\n",
    "\n",
    "사용할 positive 샘플이 많지 않기 때문에 가용한 적은 수의 sample 에 classifier 가 더 비중을 두도록 할 수 있다.  이는 모델이 과소 표현된 클래스의 샘플에 `더 많은주의를 기울이도록` 지시하는 데 유용.\n",
    "\n",
    "step1 - 레이블 및 관련 가중치로 dictionary 정의\n",
    "```\n",
    "class_weight ={0: 0.5008652375006595, 1: 289.43800813008136}\n",
    "```                \n",
    "step2 - dictionary를 매개 변수로 공급:  \n",
    "```\n",
    "    model.fit(X_train, Y_train, nb_epoch=5, batch_size=32, class_weight=class_weight)\n",
    "```\n",
    "\n",
    "- loss function 계산 시 class_weight 에 지정된 대로 가중 평균"
   ]
  },
  {
   "cell_type": "code",
   "execution_count": null,
   "id": "efa72918",
   "metadata": {},
   "outputs": [],
   "source": []
  },
  {
   "cell_type": "markdown",
   "id": "9330ae6a",
   "metadata": {
    "id": "wW0fego1-07I"
   },
   "source": [
    "각 클래스의 샘플 수에 반비례하는 가중치를 계산하여, 모델 학습 시 소수 클래스의 중요도를 증가시키고 다수 클래스의 중요도를 감소시킵니다. 이 방법은 모델이 소수 클래스를 더 잘 학습하도록 돕습니다."
   ]
  },
  {
   "cell_type": "code",
   "execution_count": null,
   "id": "b46557d4",
   "metadata": {},
   "outputs": [],
   "source": [
    "# 0 클래스(다수 클래스)와 1 클래스(소수 클래스)의 샘플 수를 바탕으로 각 클래스의 가중치를 계산\n",
    "# neg는 0 클래스의 샘플 수, pos는 1 클래스의 샘플 수, total은 전체 샘플 수\n",
    "# class_weight 딕셔너리에 계산된 가중치를 할당\n",
    "# 각 클래스에 대한 가중치 출력"
   ]
  },
  {
   "cell_type": "code",
   "execution_count": null,
   "id": "3a38978d",
   "metadata": {},
   "outputs": [],
   "source": []
  },
  {
   "cell_type": "code",
   "execution_count": null,
   "id": "0f5f3483",
   "metadata": {},
   "outputs": [],
   "source": []
  },
  {
   "cell_type": "code",
   "execution_count": null,
   "id": "90cc0c87",
   "metadata": {},
   "outputs": [],
   "source": []
  },
  {
   "cell_type": "code",
   "execution_count": null,
   "id": "38736eca",
   "metadata": {},
   "outputs": [],
   "source": []
  },
  {
   "cell_type": "markdown",
   "id": "8de2291e",
   "metadata": {
    "id": "FF42Tjcdt30K"
   },
   "source": [
    "## Plot the ROC"
   ]
  },
  {
   "cell_type": "code",
   "execution_count": null,
   "id": "e2f018d3",
   "metadata": {},
   "outputs": [],
   "source": [
    "def plot_roc(name, labels, predictions, **kwargs):\n",
    "    # ROC 곡선을 그리기 위한 FPR(위양성률)과 TPR(진양성률)을 계산합니다.\n",
    "    # AUC(Area Under the Curve) 값을 계산합니다.\n",
    "    # ROC 곡선을 그립니다. FPR을 x축, TPR을 y축으로 설정합니다.\n",
    "    # label은 모델 이름과 AUC 값을 포함하며, linewidth는 선의 두께를 설정합니다.\n",
    "    # 현재 그래프의 축 객체를 가져옵니다."
   ]
  },
  {
   "cell_type": "code",
   "execution_count": null,
   "id": "9624999e",
   "metadata": {},
   "outputs": [],
   "source": []
  },
  {
   "cell_type": "markdown",
   "id": "4863f2cd",
   "metadata": {
    "id": "rcbHFEtjGzxD"
   },
   "source": [
    "## Next Step => Over+Under-sampling model과 weight 조절 DNN model 비교"
   ]
  },
  {
   "cell_type": "code",
   "execution_count": null,
   "id": "d9389138",
   "metadata": {},
   "outputs": [],
   "source": []
  }
 ],
 "metadata": {
  "accelerator": "GPU",
  "colab": {
   "gpuType": "T4",
   "machine_shape": "hm",
   "provenance": []
  },
  "kernelspec": {
   "display_name": "Python 3 (ipykernel)",
   "language": "python",
   "name": "python3"
  },
  "language_info": {
   "codemirror_mode": {
    "name": "ipython",
    "version": 3
   },
   "file_extension": ".py",
   "mimetype": "text/x-python",
   "name": "python",
   "nbconvert_exporter": "python",
   "pygments_lexer": "ipython3",
   "version": "3.9.7"
  }
 },
 "nbformat": 4,
 "nbformat_minor": 5
}
