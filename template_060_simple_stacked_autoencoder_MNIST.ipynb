{
 "cells": [
  {
   "cell_type": "markdown",
   "id": "c6026c3d",
   "metadata": {
    "id": "6_BMH4BDOWz7"
   },
   "source": [
    "# Simple and Stacked Autoencoder with MNIST - Dense\n",
    "\n",
    "- fashion_mnist dataset 을 이용한 deep autoencoder 생성\n",
    "\n",
    "\n",
    "- Mnist dataset 의 손글씨체를 encoding 후 decoding 하여 복원  "
   ]
  },
  {
   "cell_type": "markdown",
   "id": "4e1dc265",
   "metadata": {
    "id": "c8EVr3DnO_M4"
   },
   "source": [
    "`plot_model` 사용을 위해서 `conda install pydot`, `conda install graphviz` 로 graphviz 와 pydot 설치"
   ]
  },
  {
   "cell_type": "code",
   "execution_count": null,
   "id": "f6c004bb",
   "metadata": {},
   "outputs": [],
   "source": []
  },
  {
   "cell_type": "code",
   "execution_count": null,
   "id": "07641375",
   "metadata": {},
   "outputs": [],
   "source": []
  },
  {
   "cell_type": "markdown",
   "id": "85fa0b65",
   "metadata": {
    "id": "pXQJfi7kO_M5"
   },
   "source": [
    "sample image 시각화"
   ]
  },
  {
   "cell_type": "code",
   "execution_count": null,
   "id": "ad077401",
   "metadata": {},
   "outputs": [],
   "source": []
  },
  {
   "cell_type": "markdown",
   "id": "116a541a",
   "metadata": {
    "id": "y8eQ-srIO_M5"
   },
   "source": [
    "- data normalization  \n",
    "- 2차원 image 를 1 차원으로 변경"
   ]
  },
  {
   "cell_type": "code",
   "execution_count": null,
   "id": "d9412964",
   "metadata": {},
   "outputs": [],
   "source": [
    "# X_train과 X_test 데이터를 255로 나누어 0과 1 사이의 값으로 정규화합니다.\n",
    "# X_train과 X_test 데이터를 2차원 배열로 변환합니다.\n",
    "# 각 샘플은 28x28 이미지를 1차원 벡터(784차원)로 변환합니다.\n",
    "# 변환된 데이터의 형태를 출력합니다."
   ]
  },
  {
   "cell_type": "markdown",
   "id": "04b55392",
   "metadata": {
    "id": "S7lrANLDd1xH"
   },
   "source": [
    "# stacked autoencoder 작성"
   ]
  },
  {
   "cell_type": "code",
   "execution_count": null,
   "id": "2b95b366",
   "metadata": {},
   "outputs": [],
   "source": [
    "# 입력 레이어를 정의합니다. 입력 데이터의 형태는 784차원입니다.\n",
    "# 스택드 오토인코더(stacked autoencoder) 정의\n",
    "# 디코더 레이어 정의\n",
    "# 인코더 모델 정의\n",
    "# 오토인코더 모델 정의\n",
    "# 오토인코더 모델 컴파일"
   ]
  },
  {
   "cell_type": "markdown",
   "id": "2aacef08",
   "metadata": {
    "id": "zP7owLXCO_M6"
   },
   "source": [
    "- model summary 및 시각화"
   ]
  },
  {
   "cell_type": "code",
   "execution_count": null,
   "id": "2462f015",
   "metadata": {},
   "outputs": [],
   "source": []
  },
  {
   "cell_type": "code",
   "execution_count": null,
   "id": "c22064c3",
   "metadata": {},
   "outputs": [],
   "source": []
  },
  {
   "cell_type": "code",
   "execution_count": null,
   "id": "66aa7683",
   "metadata": {},
   "outputs": [],
   "source": []
  },
  {
   "cell_type": "code",
   "execution_count": null,
   "id": "d6369260",
   "metadata": {},
   "outputs": [],
   "source": []
  },
  {
   "cell_type": "code",
   "execution_count": null,
   "id": "ae868544",
   "metadata": {},
   "outputs": [],
   "source": [
    "# 10개의 이미지를 반복하여 각 서브플롯에 그립니다.\n",
    "    # 첫 번째 행에 원본 이미지를 그립니다.\n",
    "    # 이미지를 인코더 모델에 입력할 수 있도록 차원을 확장합니다.\n",
    "    # 두 번째 행에 인코더 모델의 출력을 그립니다.\n",
    "    # 세 번째 행에 오토인코더 모델의 출력을 그립니다."
   ]
  },
  {
   "cell_type": "code",
   "execution_count": null,
   "id": "3595948e",
   "metadata": {},
   "outputs": [],
   "source": []
  }
 ],
 "metadata": {
  "accelerator": "GPU",
  "colab": {
   "machine_shape": "hm",
   "provenance": []
  },
  "kernelspec": {
   "display_name": "Python 3 (ipykernel)",
   "language": "python",
   "name": "python3"
  },
  "language_info": {
   "codemirror_mode": {
    "name": "ipython",
    "version": 3
   },
   "file_extension": ".py",
   "mimetype": "text/x-python",
   "name": "python",
   "nbconvert_exporter": "python",
   "pygments_lexer": "ipython3",
   "version": "3.9.7"
  }
 },
 "nbformat": 4,
 "nbformat_minor": 5
}
