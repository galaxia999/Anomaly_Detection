{
 "cells": [
  {
   "cell_type": "markdown",
   "id": "db40a5d8",
   "metadata": {},
   "source": [
    "# DBSCAN\n",
    "\n",
    "- 노이즈가있는 애플리케이션의 밀도 기반 공간 클러스터링   \n",
    "\n",
    "- 고밀도의 핵심 샘플을 찾아서 클러스터를 확장합니다. 밀도가 비슷한 클러스터를 포함하는 데이터에 적합합니다.  "
   ]
  },
  {
   "cell_type": "code",
   "execution_count": null,
   "id": "18a85e79",
   "metadata": {},
   "outputs": [],
   "source": []
  },
  {
   "cell_type": "markdown",
   "id": "32a3c2af",
   "metadata": {},
   "source": [
    "- iris dataset 사용"
   ]
  },
  {
   "cell_type": "code",
   "execution_count": null,
   "id": "7df1b417",
   "metadata": {},
   "outputs": [],
   "source": []
  },
  {
   "cell_type": "code",
   "execution_count": null,
   "id": "f73fedcd",
   "metadata": {},
   "outputs": [],
   "source": []
  },
  {
   "cell_type": "markdown",
   "id": "d25a8292",
   "metadata": {},
   "source": [
    "- Data 시각화"
   ]
  },
  {
   "cell_type": "code",
   "execution_count": null,
   "id": "4ac32a47",
   "metadata": {},
   "outputs": [],
   "source": []
  },
  {
   "cell_type": "code",
   "execution_count": null,
   "id": "d5799bf0",
   "metadata": {},
   "outputs": [],
   "source": []
  },
  {
   "cell_type": "code",
   "execution_count": null,
   "id": "2042fc53",
   "metadata": {},
   "outputs": [],
   "source": []
  },
  {
   "cell_type": "markdown",
   "id": "7e49c190",
   "metadata": {},
   "source": [
    "### DBSCAN model 학습  \n",
    "```\n",
    "DBSCAN(eps=epsilon, min_samples=minimumSamples)\n",
    "```\n",
    "- eps : 이웃으로 간주될 최대 거리 (Radius). 가장 중요한 DBSCAN 매개 변수.\n",
    "- min_samples : 코어 포인트로 간주될 포인트에 대한 이웃의 minimum 샘플 수(포인트 자체 포함)\n",
    "    \n",
    "    \n",
    "- core_sample_indices : core sample 의 index  \n",
    "- labels_ : 데이터 세트의 각 point에 대한 클러스터 레이블. outlier 에는 -1 이 지정."
   ]
  },
  {
   "cell_type": "code",
   "execution_count": null,
   "id": "677706fa",
   "metadata": {},
   "outputs": [],
   "source": []
  },
  {
   "cell_type": "code",
   "execution_count": null,
   "id": "baa241d6",
   "metadata": {},
   "outputs": [],
   "source": []
  },
  {
   "cell_type": "code",
   "execution_count": null,
   "id": "67172566",
   "metadata": {},
   "outputs": [],
   "source": []
  },
  {
   "cell_type": "code",
   "execution_count": null,
   "id": "575b83c3",
   "metadata": {},
   "outputs": [],
   "source": []
  },
  {
   "cell_type": "code",
   "execution_count": null,
   "id": "69073701",
   "metadata": {},
   "outputs": [],
   "source": []
  },
  {
   "cell_type": "markdown",
   "id": "232a9507",
   "metadata": {},
   "source": [
    "- core, border, outlier point 표시"
   ]
  },
  {
   "cell_type": "code",
   "execution_count": null,
   "id": "5723d870",
   "metadata": {},
   "outputs": [],
   "source": []
  },
  {
   "cell_type": "code",
   "execution_count": null,
   "id": "79aad2ae",
   "metadata": {},
   "outputs": [],
   "source": []
  }
 ],
 "metadata": {
  "kernelspec": {
   "display_name": "Python 3 (ipykernel)",
   "language": "python",
   "name": "python3"
  },
  "language_info": {
   "codemirror_mode": {
    "name": "ipython",
    "version": 3
   },
   "file_extension": ".py",
   "mimetype": "text/x-python",
   "name": "python",
   "nbconvert_exporter": "python",
   "pygments_lexer": "ipython3",
   "version": "3.9.12"
  }
 },
 "nbformat": 4,
 "nbformat_minor": 5
}
