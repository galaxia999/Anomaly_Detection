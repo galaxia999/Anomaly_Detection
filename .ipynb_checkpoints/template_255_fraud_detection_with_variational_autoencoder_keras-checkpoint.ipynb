{
 "cells": [
  {
   "cell_type": "markdown",
   "id": "5b25a3c3",
   "metadata": {
    "_uuid": "21b9cdffef93ded4706cf9e69a091add5897d633",
    "id": "LBydBHZl7fqa"
   },
   "source": [
    "# Fraud Detection with Variational Autoencoder"
   ]
  },
  {
   "cell_type": "markdown",
   "id": "4eda8973",
   "metadata": {
    "_uuid": "3c96ae50f9b6526183014fd6a05e63a154519e6f",
    "id": "40TkjvAJ7fqa"
   },
   "source": [
    "- VAE는 vanilla 오토인코더에 비해 훨씬 나은 성능의 이상탐지(anomaly detection) 성능을 제공합니다. 실험을 통해 우리는 기존의 AE는 너무 큰 bottleneck을 가지면 identity function이 되며 이상탐지 성능이 떨어지는 것에 반해, VAE는 bottleneck의 크기가 커질수록 이상탐지 성능이 오르는 효과를 갖는 것을 확인할 수 있습니다. 따라서 AE 기반의 anomaly detection을 수행할 때, 기존에는 bottleneck의 크기를 hyper-parameter로 튜닝해야 했던 반면에, VAE의 경우에는 튜닝을 할 필요가 거의 없습니다.  \n",
    "\n",
    "- 신용 카드 데이터에 VAE(Variational Autoencoder)를 적용합니다.\n",
    "\n",
    "\n",
    "- 분포를 배우는 것이 좋은 점은,  \n",
    "    첫째, 데이터 및 노이즈 생성 프로세스를 명시적으로 모델링함으로써 VAE는 더 robust 하게 그 두가지를 분리하는 방법을 배울 수 있습니다.   \n",
    "    둘째, disentanglement constraint가 적용되면 잠재 공간이 더 해석 가능해집니다.    \n",
    "    셋째, 잠재 벡터를 샘플링하여 새 샘플을 생성하고 디코더를 통해 파이프할 수 있습니다.   \n",
    "    \n",
    "\n",
    "* disentanglement : latent space가 linear한 구조를 가지게 되어서 하나의 latent vector z 를 움직였을 때 정해진 어떠한 하나의 특성이 변경되게 만들고자 하는 것. 예를 들어, latent vector z 의 specific 한 값을 변경했을 때 생성되는 이미지는 하나의 특성들(머리카락 길이, 성별, 사람의 시선)만 영향을 주게 만들었다고 하면, 이 모델의 latent space는 disentanglement 하다고 말 할 수 있다.\n",
    "\n",
    "### Contents\n",
    "\n",
    "1. Variational Autoencoder 훈련\n",
    "2. 잠재 표현 시각화 (Visualize Latent Representations)\n",
    "3. VAE model 훈련\n",
    "4. 재구성 오류 계산\n",
    "5. 테스트 세트에 대한 평가"
   ]
  },
  {
   "cell_type": "code",
   "execution_count": null,
   "id": "2ebe7cfc",
   "metadata": {},
   "outputs": [],
   "source": []
  },
  {
   "cell_type": "markdown",
   "id": "3757dd60",
   "metadata": {
    "_uuid": "bdd18414d608713f44fb86d9ee8a9eae7fa77367",
    "id": "7sVQjS607fqc"
   },
   "source": [
    "## Raw Dataset\n",
    "\n",
    "model train 은 train set 만으로 합니다. test set은 최종 평가 때까지 사용되지 않습니다."
   ]
  },
  {
   "cell_type": "code",
   "execution_count": null,
   "id": "779ce47d",
   "metadata": {},
   "outputs": [],
   "source": []
  },
  {
   "cell_type": "markdown",
   "id": "e33b9a1b",
   "metadata": {
    "id": "Hd9vWJgAKpSc"
   },
   "source": [
    "-  데이터 세트가 매우 불균형합니다."
   ]
  },
  {
   "cell_type": "code",
   "execution_count": null,
   "id": "898f9c7b",
   "metadata": {},
   "outputs": [],
   "source": []
  },
  {
   "cell_type": "code",
   "execution_count": null,
   "id": "70c15fb5",
   "metadata": {},
   "outputs": [],
   "source": []
  },
  {
   "cell_type": "markdown",
   "id": "c8aaf02d",
   "metadata": {
    "id": "23wCkGDrKpSe"
   },
   "source": [
    "- Time 필드를 일중 시간으로 변환합니다.   \n",
    "- Amount 필드는 로그 스케일로 변환합니다."
   ]
  },
  {
   "cell_type": "code",
   "execution_count": null,
   "id": "7d27425d",
   "metadata": {},
   "outputs": [],
   "source": []
  },
  {
   "cell_type": "markdown",
   "id": "da90985d",
   "metadata": {
    "id": "eM-TssowKpSe"
   },
   "source": [
    "- class 1 이 너무 적으므로 통상적인 7:3 대신 5:5 비율로 train, test set 분리"
   ]
  },
  {
   "cell_type": "code",
   "execution_count": null,
   "id": "8e74c1ff",
   "metadata": {},
   "outputs": [],
   "source": []
  },
  {
   "cell_type": "code",
   "execution_count": null,
   "id": "8f22b189",
   "metadata": {},
   "outputs": [],
   "source": []
  },
  {
   "cell_type": "code",
   "execution_count": null,
   "id": "3547f781",
   "metadata": {},
   "outputs": [],
   "source": []
  },
  {
   "cell_type": "code",
   "execution_count": null,
   "id": "2486c59c",
   "metadata": {},
   "outputs": [],
   "source": []
  },
  {
   "cell_type": "markdown",
   "id": "301e9860",
   "metadata": {
    "_uuid": "3ae6791f9f14094bf85111601d5a56c20a5fc34d",
    "id": "4xbpTJpN7fqf"
   },
   "source": [
    "## Variational Autoencoder 훈련\n",
    "\n",
    "- 디코더의 출력인 데이터 분포 매개 변수는 정규 분포를 따릅니다.  신용카드 데이터는 실수 값이며 일반적으로 정규 분포를 따르므로 정규 분포를 사용하여 출력을 모델링하는 것이 합리적입니다."
   ]
  },
  {
   "cell_type": "markdown",
   "id": "19debf88",
   "metadata": {
    "id": "sinkz1mnwXBL"
   },
   "source": [
    "train set 을 정상과 비정상 set 으로 구분"
   ]
  },
  {
   "cell_type": "code",
   "execution_count": null,
   "id": "71999f04",
   "metadata": {},
   "outputs": [],
   "source": []
  },
  {
   "cell_type": "markdown",
   "id": "e5e3f208",
   "metadata": {
    "id": "udMTw76_wkFT"
   },
   "source": [
    "test set을 정상과 비정상 set으로 구분"
   ]
  },
  {
   "cell_type": "code",
   "execution_count": null,
   "id": "b324e595",
   "metadata": {},
   "outputs": [],
   "source": []
  },
  {
   "cell_type": "markdown",
   "id": "60724572",
   "metadata": {
    "id": "iwr8bqZNHz7L"
   },
   "source": [
    "### 데이터 파이프라인 작성"
   ]
  },
  {
   "cell_type": "code",
   "execution_count": null,
   "id": "7c8d5dbb",
   "metadata": {},
   "outputs": [],
   "source": []
  },
  {
   "cell_type": "markdown",
   "id": "11056569",
   "metadata": {
    "id": "2mdjdb5lHBZo"
   },
   "source": [
    "## 신경망 구조 정의\n",
    "\n",
    "<img src=\"https://drive.google.com/uc?export=view&id=1YAZAeMGEJ1KgieYk1ju-S9DoshpMREeC\" width=\"60%\" height=\"60%\"/>\n",
    "\n",
    "### Sampling Class\n",
    "\n",
    "먼저 'Sampling' 클래스를 빌드합니다. 이것은 인코더 출력의 평균 (mu) 및 표준 편차 (sigma)와 함께 가우스 노이즈 입력을 제공하는 맞춤형 Keras 레이어입니다. 실제로 이 레이어의 출력은 다음 방정식으로 제공됩니다.\n",
    "\n",
    "$$z = \\mu + e^{0.5\\sigma} * \\epsilon  $$\n",
    "\n",
    "여기서 $\\mu$ = mean, $\\sigma$ = standard deviation, $\\epsilon$ = random sample"
   ]
  },
  {
   "cell_type": "code",
   "execution_count": null,
   "id": "8e7ac966",
   "metadata": {},
   "outputs": [],
   "source": [
    "class Sampling(tf.keras.layers.Layer):\n",
    "    def call(self, inputs):\n",
    "        # 인코더의 출력을 분해합니다.\n",
    "        # 배치의 크기와 차원을 얻습니다.\n",
    "        # 무작위 텐서를 생성합니다.\n",
    "        # 재매개변수화 기법을 적용합니다."
   ]
  },
  {
   "cell_type": "markdown",
   "id": "5baae2c5",
   "metadata": {
    "id": "zzmjqd_JHLXs"
   },
   "source": [
    "### Kullback–Leibler Divergence\n",
    "모델의 생성 능력을 향상 시키려면 잠재 공간에 도입된 랜덤 정규 분포를 고려해야 합니다. 이를 위해 [Kullback–Leibler Divergence](https://arxiv.org/abs/2002.07514)가 계산되어 재구성 손실에 추가됩니다. 공식은 아래 함수에서 정의됩니다."
   ]
  },
  {
   "cell_type": "code",
   "execution_count": null,
   "id": "83e6da72",
   "metadata": {},
   "outputs": [],
   "source": [
    "def kl_reconstruction_loss(inputs, outputs, mu, sigma):\n",
    "    # KLD 계산 공식 적용\n",
    "    # 배치 내 평균을 계산하고 -0.5를 곱하여 최종 KLD 손실을 계산"
   ]
  },
  {
   "cell_type": "markdown",
   "id": "67a31758",
   "metadata": {
    "id": "ZQjg1UslwlWx"
   },
   "source": [
    "### VAE Model\n",
    "이제 전체 VAE 모델을 정의할 수 있습니다. KL reconstruction loss를 추가하기 위해 `model.add_loss()`를 사용합니다. 이 손실을 계산하는 것은 `y_true`와 `y_pred`를 사용하지 않으므로 `model.compile()`에서 사용할 수 없습니다.\n",
    "\n",
    "- add_loss() 메서드 : 손실이 있는 경우, 자동으로 합산되어 주 손실에 추가"
   ]
  },
  {
   "cell_type": "code",
   "execution_count": null,
   "id": "62cdfca5",
   "metadata": {},
   "outputs": [],
   "source": []
  },
  {
   "cell_type": "code",
   "execution_count": null,
   "id": "95b90f35",
   "metadata": {},
   "outputs": [],
   "source": []
  },
  {
   "cell_type": "code",
   "execution_count": null,
   "id": "f18b3d29",
   "metadata": {},
   "outputs": [],
   "source": []
  },
  {
   "cell_type": "code",
   "execution_count": null,
   "id": "af6eb550",
   "metadata": {},
   "outputs": [],
   "source": [
    "# 인코더를 통과시켜 평균(mu), 표준 편차(sigma), 그리고 잠재 공간의 벡터(z)를 얻습니다.\n",
    "# 디코더를 사용하여 잠재 공간의 벡터(z)로부터 입력을 재구성\n",
    "# 입력과 재구성된 값을 사용하여 VAE 모델을 생성\n",
    "# Kullback-Leibler 발산을 계산하는 함수를 사용하여 손실을 추가합니다. 이는 잠재 공간의 분포가\n",
    "# 우리가 원하는 분포(예: 표준 정규 분포)에 가까워지도록 돕습니다.\n",
    "# add_loss는 사용자 정의 손실을 추가하는 메서드"
   ]
  },
  {
   "cell_type": "code",
   "execution_count": null,
   "id": "59f0b5d1",
   "metadata": {},
   "outputs": [],
   "source": [
    "# 학습 과정에서의 평균 손실을 추적\n",
    "# 평균 제곱 오차 손실 함수를 사용합니다."
   ]
  },
  {
   "cell_type": "code",
   "execution_count": null,
   "id": "ffdf390c",
   "metadata": {},
   "outputs": [],
   "source": [
    "def train_step(x_batch_train):\n",
    "        # VAE 모델에 배치 입력을 공급하여 재구성된 결과를 얻음\n",
    "        # 재구성 손실을 계산\n",
    "        # KLD 정규화 손실을 추가\n",
    "    # 그라디언트를 계산하고 가중치 업데이트\n",
    "# 테스트 스텝 추가\n",
    "def test_step(x_batch_test):\n",
    "# 손실 지표를 두 개로 분리\n",
    "    # 에포크 시작 시 지표 리셋\n",
    "        # 훈련 스텝\n",
    "        # 테스트 스텝\n",
    "        # 매 500 스텝마다 결과 표시"
   ]
  },
  {
   "cell_type": "code",
   "execution_count": null,
   "id": "add8af1b",
   "metadata": {},
   "outputs": [],
   "source": []
  },
  {
   "cell_type": "markdown",
   "id": "8f3fc970",
   "metadata": {
    "_uuid": "8838e8cf12d64ad6189a20f6d1dbe2feb0a77682",
    "id": "Du1qgiXv7fqi"
   },
   "source": [
    "## Reconstruction Error 시각화\n",
    "\n",
    "- Anomaly data 와의 bar chart 비교를 위해 정상 abnormal data 갯수 만큼의 임의의 normal sample 을 선택"
   ]
  },
  {
   "cell_type": "code",
   "execution_count": null,
   "id": "07e9de96",
   "metadata": {},
   "outputs": [],
   "source": [
    "# 정상 sample 무작위 sampling"
   ]
  },
  {
   "cell_type": "markdown",
   "id": "dbf278d6",
   "metadata": {
    "id": "T7DgdpnFYyoN"
   },
   "source": [
    "### 정상 data 및 fraud data 의 autoencoder 재 구성값\n",
    "- 정상 data의 metric"
   ]
  },
  {
   "cell_type": "code",
   "execution_count": null,
   "id": "12273230",
   "metadata": {},
   "outputs": [],
   "source": [
    "# 정상 데이터의 재구성 결과 값\n",
    "# 재구성 오류 -  input/output 간의 MSE 구하기"
   ]
  },
  {
   "cell_type": "code",
   "execution_count": null,
   "id": "6f88ec73",
   "metadata": {},
   "outputs": [],
   "source": [
    "# 비정상 data의 재구성 결과값\n",
    "# 재구성 오류 -  input/output 간의 MSE 구하기"
   ]
  },
  {
   "cell_type": "markdown",
   "id": "6bdcfc84",
   "metadata": {
    "id": "sLU3fwifwovA"
   },
   "source": [
    "### MSE 분포 시각화 비교"
   ]
  },
  {
   "cell_type": "code",
   "execution_count": null,
   "id": "b664dda0",
   "metadata": {},
   "outputs": [],
   "source": []
  },
  {
   "cell_type": "code",
   "execution_count": null,
   "id": "541ff08d",
   "metadata": {},
   "outputs": [],
   "source": []
  },
  {
   "cell_type": "markdown",
   "id": "30bd7282",
   "metadata": {
    "_uuid": "e3aa3460670596e3bb58666bc24817b20861f46b",
    "id": "KKZC-tJv7fqj"
   },
   "source": [
    "## 잠재 표현 (Latent Representations) 시각화"
   ]
  },
  {
   "cell_type": "code",
   "execution_count": null,
   "id": "7e61d347",
   "metadata": {},
   "outputs": [],
   "source": []
  },
  {
   "cell_type": "code",
   "execution_count": null,
   "id": "3ae08184",
   "metadata": {},
   "outputs": [],
   "source": []
  },
  {
   "cell_type": "code",
   "execution_count": null,
   "id": "bc578275",
   "metadata": {},
   "outputs": [],
   "source": [
    "# X_test의 잠재 표현 평균 계산"
   ]
  },
  {
   "cell_type": "markdown",
   "id": "365f2185",
   "metadata": {
    "_uuid": "09dbe144248f5f8f8c2754de653149fb2608d551",
    "id": "h6doEwpY7fqj"
   },
   "source": [
    "원점 [0,0] 평균 벡터 주변에서 사기와 사기가 아닌 트랜잭션 사이에는 분명한 구분이 있습니다. 이는 VAE가 의미있는 것을 학습하고 있다는 신호입니다."
   ]
  },
  {
   "cell_type": "code",
   "execution_count": null,
   "id": "1c0b21bc",
   "metadata": {},
   "outputs": [],
   "source": [
    "# X_test의 잠재 표현 표준 편차 계산"
   ]
  },
  {
   "cell_type": "markdown",
   "id": "51e99752",
   "metadata": {
    "_uuid": "1b982ca31566b9cb7d81b390816e9b20ccedcc88",
    "id": "ZdOw2PUh7fqk"
   },
   "source": [
    "빨간색으로 표시된 사기 거래의 표준 편차가 훨씬 더 흩어져 있고 사기 거래가 불규칙한 경향이 있다는 직관과 일치합니다."
   ]
  },
  {
   "cell_type": "code",
   "execution_count": null,
   "id": "eee4c136",
   "metadata": {},
   "outputs": [],
   "source": [
    "# X_test의 잠재 표현 시각화"
   ]
  },
  {
   "cell_type": "markdown",
   "id": "3b71200b",
   "metadata": {
    "_uuid": "68c76ab08542180d937ac46a872259199da35310",
    "id": "2o0u9O8G7fqk"
   },
   "source": [
    "샘플된 잠재 벡터 z입니다. 클러스터링 및 scattering은 이전 관찰과 일치합니다."
   ]
  },
  {
   "cell_type": "markdown",
   "id": "0a002cf0",
   "metadata": {
    "id": "slT6doi5WNb6"
   },
   "source": [
    "##  Reconstruction error threshold\n",
    "- 정상 data 로만 train 한 vae model 의 재구성 결과의 원본과의 mse 차이를 기준으로 사기 거래 분류"
   ]
  },
  {
   "cell_type": "code",
   "execution_count": null,
   "id": "001d165b",
   "metadata": {},
   "outputs": [],
   "source": [
    "# train set의 재구성 오류 계산 (0 - 정상, 1 - 사기)"
   ]
  },
  {
   "cell_type": "code",
   "execution_count": null,
   "id": "e648c692",
   "metadata": {},
   "outputs": [],
   "source": []
  },
  {
   "cell_type": "markdown",
   "id": "8ae429c7",
   "metadata": {
    "id": "-mh_FGtrXjZn"
   },
   "source": [
    "위에서 보듯 사기성이 아닌 거래의  오류는 사기성 거래 보다 낮습니다.\n",
    "\n",
    "- mean + 3*std를 threshold로 사용하여 test set의 재구성 error(squared error)가 threshold 보다 크면 fraud 거래로 분류합니다.  \n",
    "- 1 std - 68%, 2 std - 96%, 3 std - 99.8%"
   ]
  },
  {
   "cell_type": "code",
   "execution_count": null,
   "id": "e4f771b8",
   "metadata": {},
   "outputs": [],
   "source": []
  },
  {
   "cell_type": "markdown",
   "id": "2c247bb8",
   "metadata": {
    "id": "f_XqqPQt-uwi"
   },
   "source": [
    "- Test set을 이용하여 재구성 오류 계산  \n",
    "- thrshold 별로 confusion matrix"
   ]
  },
  {
   "cell_type": "code",
   "execution_count": null,
   "id": "a6f3bcb2",
   "metadata": {},
   "outputs": [],
   "source": [
    "def model_predict(threshold, mse):"
   ]
  }
 ],
 "metadata": {
  "accelerator": "GPU",
  "colab": {
   "machine_shape": "hm",
   "provenance": []
  },
  "kernelspec": {
   "display_name": "Python 3 (ipykernel)",
   "language": "python",
   "name": "python3"
  },
  "language_info": {
   "codemirror_mode": {
    "name": "ipython",
    "version": 3
   },
   "file_extension": ".py",
   "mimetype": "text/x-python",
   "name": "python",
   "nbconvert_exporter": "python",
   "pygments_lexer": "ipython3",
   "version": "3.9.16"
  }
 },
 "nbformat": 4,
 "nbformat_minor": 5
}
